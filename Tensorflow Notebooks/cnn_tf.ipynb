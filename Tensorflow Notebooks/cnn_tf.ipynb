{
 "cells": [
  {
   "cell_type": "markdown",
   "metadata": {
    "id": "x4HI2mpwlrcn"
   },
   "source": [
    "##### Copyright 2019 The TensorFlow Authors."
   ]
  },
  {
   "cell_type": "markdown",
   "metadata": {
    "id": "DSPCom-KmApV"
   },
   "source": [
    "# Convolutional Neural Network (CNN)"
   ]
  },
  {
   "cell_type": "markdown",
   "metadata": {
    "id": "qLGkt5qiyz4E"
   },
   "source": [
    "This tutorial demonstrates training a simple [Convolutional Neural Network](https://developers.google.com/machine-learning/glossary/#convolutional_neural_network) (CNN) to classify [CIFAR images](https://www.cs.toronto.edu/~kriz/cifar.html). Because this tutorial uses the [Keras Sequential API](https://www.tensorflow.org/guide/keras/overview), creating and training your model will take just a few lines of code.\n"
   ]
  },
  {
   "cell_type": "markdown",
   "metadata": {
    "id": "m7KBpffWzlxH"
   },
   "source": [
    "### Import TensorFlow"
   ]
  },
  {
   "cell_type": "code",
   "execution_count": null,
   "metadata": {
    "execution": {
     "iopub.execute_input": "2024-08-16T03:19:29.176315Z",
     "iopub.status.busy": "2024-08-16T03:19:29.176081Z",
     "iopub.status.idle": "2024-08-16T03:19:31.920651Z",
     "shell.execute_reply": "2024-08-16T03:19:31.919942Z"
    },
    "id": "iAve6DCL4JH4"
   },
   "outputs": [],
   "source": [
    "#TODO: import tensorflow\n",
    "import .....\n",
    "\n",
    "\n",
    "from tensorflow.keras import datasets, layers, models\n",
    "\n",
    "#TODO: import matplotlib\n",
    "import ...."
   ]
  },
  {
   "cell_type": "markdown",
   "metadata": {
    "id": "jRFxccghyMVo"
   },
   "source": [
    "### Download and prepare the CIFAR10 dataset\n",
    "\n",
    "\n",
    "The CIFAR10 dataset contains 60,000 color images in 10 classes, with 6,000 images in each class. The dataset is divided into 50,000 training images and 10,000 testing images. The classes are mutually exclusive and there is no overlap between them."
   ]
  },
  {
   "cell_type": "code",
   "execution_count": null,
   "metadata": {
    "execution": {
     "iopub.execute_input": "2024-08-16T03:19:31.925341Z",
     "iopub.status.busy": "2024-08-16T03:19:31.924878Z",
     "iopub.status.idle": "2024-08-16T03:19:39.203626Z",
     "shell.execute_reply": "2024-08-16T03:19:39.202782Z"
    },
    "id": "JWoEqyMuXFF4"
   },
   "outputs": [],
   "source": [
    "#TODO: Load cifar10 dataset into train and test\n",
    "(..., ... ), (... , ... ) = _._.load_data()\n",
    "\n"
   ]
  },
  {
   "cell_type": "code",
   "execution_count": null,
   "metadata": {},
   "outputs": [],
   "source": [
    "# Normalize pixel values to be between 0 and 1\n",
    "train_images, test_images = train_images / .... , test_images / .... "
   ]
  },
  {
   "cell_type": "markdown",
   "metadata": {
    "id": "7wArwCTJJlUa"
   },
   "source": [
    "### Verify the data\n",
    "\n",
    "To verify that the dataset looks correct, let's plot the first 25 images from the training set and display the class name below each image:\n"
   ]
  },
  {
   "cell_type": "code",
   "execution_count": null,
   "metadata": {
    "execution": {
     "iopub.execute_input": "2024-08-16T03:19:39.208283Z",
     "iopub.status.busy": "2024-08-16T03:19:39.207588Z",
     "iopub.status.idle": "2024-08-16T03:19:39.802899Z",
     "shell.execute_reply": "2024-08-16T03:19:39.802156Z"
    },
    "id": "K3PAELE2eSU9"
   },
   "outputs": [],
   "source": [
    "class_names = ['airplane', 'automobile', 'bird', 'cat', 'deer',\n",
    "               'dog', 'frog', 'horse', 'ship', 'truck']\n",
    "\n",
    "\n",
    "#TODO: create a fig of size (10,10)\n",
    "plt.....\n",
    "\n",
    "for i in _ : #TODO: loop over 25 images\n",
    "    plt..... #todo: create a subplot of size 5,5 \n",
    "    plt.xticks([])\n",
    "    plt.yticks([])\n",
    "    plt.grid(False) #dont show the grid\n",
    "    plt.imshow(....) #todo: plot the image of index i of the training set\n",
    "    # The CIFAR labels happen to be arrays, \n",
    "    # which is why you need the extra index\n",
    "    plt.xlabel(....) #todo: add the class name of the image of index i\n",
    "plt.show()"
   ]
  },
  {
   "cell_type": "markdown",
   "metadata": {
    "id": "Oewp-wYg31t9"
   },
   "source": [
    "### Create the convolutional base"
   ]
  },
  {
   "cell_type": "markdown",
   "metadata": {
    "id": "3hQvqXpNyN3x"
   },
   "source": [
    "The 6 lines of code below define the convolutional base using a common pattern: a stack of [Conv2D](https://www.tensorflow.org/api_docs/python/tf/keras/layers/Conv2D) and [MaxPooling2D](https://www.tensorflow.org/api_docs/python/tf/keras/layers/MaxPool2D) layers.\n",
    "\n",
    "As input, a CNN takes tensors of shape (image_height, image_width, color_channels), ignoring the batch size. If you are new to these dimensions, color_channels refers to (R,G,B). In this example, you will configure your CNN to process inputs of shape (32, 32, 3), which is the format of CIFAR images. You can do this by passing the argument `input_shape` to your first layer.\n"
   ]
  },
  {
   "cell_type": "code",
   "execution_count": null,
   "metadata": {
    "execution": {
     "iopub.execute_input": "2024-08-16T03:19:39.808239Z",
     "iopub.status.busy": "2024-08-16T03:19:39.807959Z",
     "iopub.status.idle": "2024-08-16T03:19:42.804320Z",
     "shell.execute_reply": "2024-08-16T03:19:42.803495Z"
    },
    "id": "L9YmGQBQPrdn"
   },
   "outputs": [],
   "source": [
    "#Use Keras Sequential API\n",
    "\n",
    "model = models. .... #TODO: init keras sequential\n",
    "#TODO: add Convolution 2d layer, with 32 neurons, and size of kernel 3,3, activation function relu\n",
    "model.add(.....)\n",
    "#TODO: add a Maxpooling 2d layer\n",
    "model.add(.....)\n",
    "#TODO: add another conv2d layer, but increase size of neurons following the powers of 2 -> 64\n",
    "model.add(....)\n",
    "#TODO: Another Maxpooling layer\n",
    "model.add(....)\n",
    "#TODO: Last Conv2d lauer\n",
    "model.add(....)"
   ]
  },
  {
   "cell_type": "markdown",
   "metadata": {
    "id": "lvDVFkg-2DPm"
   },
   "source": [
    "Let's display the architecture of your model so far:"
   ]
  },
  {
   "cell_type": "code",
   "execution_count": null,
   "metadata": {
    "execution": {
     "iopub.execute_input": "2024-08-16T03:19:42.808695Z",
     "iopub.status.busy": "2024-08-16T03:19:42.808381Z",
     "iopub.status.idle": "2024-08-16T03:19:42.824463Z",
     "shell.execute_reply": "2024-08-16T03:19:42.823779Z"
    },
    "id": "8-C4XBg4UTJy"
   },
   "outputs": [],
   "source": [
    "model.summary()"
   ]
  },
  {
   "cell_type": "markdown",
   "metadata": {
    "id": "_j-AXYeZ2GO5"
   },
   "source": [
    "Above, you can see that the output of every Conv2D and MaxPooling2D layer is a 3D tensor of shape (height, width, channels). The width and height dimensions tend to shrink as you go deeper in the network. The number of output channels for each Conv2D layer is controlled by the first argument (e.g., 32 or 64). Typically,  as the width and height shrink, you can afford (computationally) to add more output channels in each Conv2D layer."
   ]
  },
  {
   "cell_type": "markdown",
   "metadata": {
    "id": "_v8sVOtG37bT"
   },
   "source": [
    "### Add Dense layers on top\n",
    "\n",
    "To complete the model, you will feed the last output tensor from the convolutional base (of shape (4, 4, 64)) into one or more Dense layers to perform classification. Dense layers take vectors as input (which are 1D), while the current output is a 3D tensor. First, you will flatten (or unroll) the 3D output to 1D,  then add one or more Dense layers on top. CIFAR has 10 output classes, so you use a final Dense layer with 10 outputs."
   ]
  },
  {
   "cell_type": "code",
   "execution_count": null,
   "metadata": {
    "execution": {
     "iopub.execute_input": "2024-08-16T03:19:42.828066Z",
     "iopub.status.busy": "2024-08-16T03:19:42.827614Z",
     "iopub.status.idle": "2024-08-16T03:19:42.860534Z",
     "shell.execute_reply": "2024-08-16T03:19:42.859892Z"
    },
    "id": "mRs95d6LUVEi"
   },
   "outputs": [],
   "source": [
    "#TODO: Flatten the output\n",
    "model.add(....)\n",
    "#TODO: add two dense layers\n",
    "model.add()\n",
    "model.add(....) #TODO: Pay attention to the number of neurons here, its the output layer"
   ]
  },
  {
   "cell_type": "markdown",
   "metadata": {
    "id": "ipGiQMcR4Gtq"
   },
   "source": [
    "Here's the complete architecture of your model:"
   ]
  },
  {
   "cell_type": "code",
   "execution_count": null,
   "metadata": {
    "execution": {
     "iopub.execute_input": "2024-08-16T03:19:42.864019Z",
     "iopub.status.busy": "2024-08-16T03:19:42.863764Z",
     "iopub.status.idle": "2024-08-16T03:19:42.879156Z",
     "shell.execute_reply": "2024-08-16T03:19:42.878552Z"
    },
    "id": "8Yu_m-TZUWGX"
   },
   "outputs": [],
   "source": [
    "model.summary()"
   ]
  },
  {
   "cell_type": "markdown",
   "metadata": {
    "id": "xNKXi-Gy3RO-"
   },
   "source": [
    "The network summary shows that (4, 4, 64) outputs were flattened into vectors of shape (1024) before going through two Dense layers."
   ]
  },
  {
   "cell_type": "markdown",
   "metadata": {
    "id": "P3odqfHP4M67"
   },
   "source": [
    "### Compile and train the model"
   ]
  },
  {
   "cell_type": "code",
   "execution_count": null,
   "metadata": {
    "execution": {
     "iopub.execute_input": "2024-08-16T03:19:42.882376Z",
     "iopub.status.busy": "2024-08-16T03:19:42.882122Z",
     "iopub.status.idle": "2024-08-16T03:20:29.740038Z",
     "shell.execute_reply": "2024-08-16T03:20:29.739213Z"
    },
    "id": "MdDzI75PUXrG"
   },
   "outputs": [],
   "source": [
    "#TODO: Choose adam optimizer and the correct loss function\n",
    "model.compile(optimizer=....,\n",
    "              loss=tf.keras.losses.....,\n",
    "              metrics=['accuracy'])\n",
    "\n",
    "history = model.fit(train_images, train_labels, epochs=10, \n",
    "                    validation_data=(test_images, test_labels))"
   ]
  },
  {
   "cell_type": "markdown",
   "metadata": {
    "id": "jKgyC5K_4O0d"
   },
   "source": [
    "### Evaluate the model"
   ]
  },
  {
   "cell_type": "code",
   "execution_count": null,
   "metadata": {
    "execution": {
     "iopub.execute_input": "2024-08-16T03:20:29.744289Z",
     "iopub.status.busy": "2024-08-16T03:20:29.743738Z",
     "iopub.status.idle": "2024-08-16T03:20:30.799205Z",
     "shell.execute_reply": "2024-08-16T03:20:30.798516Z"
    },
    "id": "gtyDF0MKUcM7"
   },
   "outputs": [],
   "source": [
    "#TODO: Plot accuracy \n",
    "plt.plot(...., label='accuracy')\n",
    "plt.plot(..... , label = 'val_accuracy')\n",
    "plt.xlabel('Epoch')\n",
    "plt.ylabel('Accuracy')\n",
    "plt.ylim([0.5, 1])\n",
    "plt.legend(loc='lower right')\n",
    "\n",
    "test_loss, test_acc = model.evaluate(....,  .... , verbose=2)"
   ]
  },
  {
   "cell_type": "code",
   "execution_count": null,
   "metadata": {
    "execution": {
     "iopub.execute_input": "2024-08-16T03:20:30.802559Z",
     "iopub.status.busy": "2024-08-16T03:20:30.802301Z",
     "iopub.status.idle": "2024-08-16T03:20:30.805993Z",
     "shell.execute_reply": "2024-08-16T03:20:30.805389Z"
    },
    "id": "0LvwaKhtUdOo"
   },
   "outputs": [],
   "source": [
    "print(test_acc)"
   ]
  },
  {
   "cell_type": "markdown",
   "metadata": {
    "id": "8cfJ8AR03gT5"
   },
   "source": [
    "Your simple CNN has achieved a test accuracy of over 70%. Not bad for a few lines of code! For another CNN style, check out the [TensorFlow 2 quickstart for experts](https://www.tensorflow.org/tutorials/quickstart/advanced) example that uses the Keras subclassing API and `tf.GradientTape`."
   ]
  }
 ],
 "metadata": {
  "accelerator": "GPU",
  "colab": {
   "collapsed_sections": [],
   "name": "cnn.ipynb",
   "toc_visible": true
  },
  "kernelspec": {
   "display_name": "Python 3",
   "name": "python3"
  },
  "language_info": {
   "codemirror_mode": {
    "name": "ipython",
    "version": 3
   },
   "file_extension": ".py",
   "mimetype": "text/x-python",
   "name": "python",
   "nbconvert_exporter": "python",
   "pygments_lexer": "ipython3",
   "version": "3.12.4"
  }
 },
 "nbformat": 4,
 "nbformat_minor": 0
}
